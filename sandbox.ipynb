{
 "cells": [
  {
   "cell_type": "code",
   "execution_count": 1,
   "id": "d09f9eba",
   "metadata": {
    "ExecuteTime": {
     "end_time": "2021-12-01T02:15:46.158186Z",
     "start_time": "2021-12-01T02:15:45.117142Z"
    }
   },
   "outputs": [],
   "source": [
    "import pandas as pd\n",
    "from linkml_runtime.linkml_model import (\n",
    "    SchemaDefinition,\n",
    "    ClassDefinition,\n",
    "    SlotDefinition,\n",
    "    Annotation,\n",
    ")\n",
    "from linkml_runtime.dumpers import yaml_dumper\n",
    "from linkml_runtime.utils.schemaview import SchemaView\n",
    "from strsimpy import Cosine\n",
    "\n",
    "from dataclasses import dataclass"
   ]
  },
  {
   "cell_type": "code",
   "execution_count": 2,
   "id": "8da36f27",
   "metadata": {
    "ExecuteTime": {
     "end_time": "2021-12-01T02:15:46.162567Z",
     "start_time": "2021-12-01T02:15:46.159931Z"
    }
   },
   "outputs": [],
   "source": [
    "model_file = \"../nmdc-schema/src/schema/nmdc.yaml\"\n",
    "selected_class = \"biosample\""
   ]
  },
  {
   "cell_type": "code",
   "execution_count": 3,
   "id": "b13d8d3d",
   "metadata": {
    "ExecuteTime": {
     "end_time": "2021-12-01T02:15:46.265167Z",
     "start_time": "2021-12-01T02:15:46.165315Z"
    }
   },
   "outputs": [],
   "source": [
    "model_sv = SchemaView(model_file)"
   ]
  },
  {
   "cell_type": "code",
   "execution_count": 4,
   "id": "5204764c",
   "metadata": {
    "ExecuteTime": {
     "end_time": "2021-12-01T02:15:48.528234Z",
     "start_time": "2021-12-01T02:15:46.267245Z"
    }
   },
   "outputs": [],
   "source": [
    "mvs = model_sv.all_subsets()"
   ]
  },
  {
   "cell_type": "code",
   "execution_count": 5,
   "id": "754ed998",
   "metadata": {
    "ExecuteTime": {
     "end_time": "2021-12-01T02:15:48.532352Z",
     "start_time": "2021-12-01T02:15:48.529592Z"
    }
   },
   "outputs": [],
   "source": [
    "mvp = model_sv.schema.prefixes\n",
    "# print(mvp)"
   ]
  },
  {
   "cell_type": "code",
   "execution_count": 6,
   "id": "2e0413bc",
   "metadata": {
    "ExecuteTime": {
     "end_time": "2021-12-01T02:15:48.538534Z",
     "start_time": "2021-12-01T02:15:48.535206Z"
    }
   },
   "outputs": [],
   "source": [
    "all_slots_dict = model_sv.all_slots()"
   ]
  },
  {
   "cell_type": "code",
   "execution_count": 7,
   "id": "97267dd2",
   "metadata": {
    "ExecuteTime": {
     "end_time": "2021-12-01T02:15:48.542855Z",
     "start_time": "2021-12-01T02:15:48.540158Z"
    }
   },
   "outputs": [],
   "source": [
    "all_classes = model_sv.all_classes()\n",
    "all_class_names = list(all_classes.keys())"
   ]
  },
  {
   "cell_type": "code",
   "execution_count": 8,
   "id": "9372fbaf",
   "metadata": {
    "ExecuteTime": {
     "end_time": "2021-12-01T02:15:48.546736Z",
     "start_time": "2021-12-01T02:15:48.544439Z"
    }
   },
   "outputs": [],
   "source": [
    "all_types = model_sv.all_types()\n",
    "all_type_names = list(all_types.keys())"
   ]
  },
  {
   "cell_type": "code",
   "execution_count": 9,
   "id": "edd8a0d4",
   "metadata": {
    "ExecuteTime": {
     "end_time": "2021-12-01T02:15:48.552103Z",
     "start_time": "2021-12-01T02:15:48.549963Z"
    }
   },
   "outputs": [],
   "source": [
    "all_enums = model_sv.all_enums()\n",
    "all_enum_names = list(all_enums.keys())"
   ]
  },
  {
   "cell_type": "code",
   "execution_count": 10,
   "id": "617db224",
   "metadata": {
    "ExecuteTime": {
     "end_time": "2021-12-01T02:15:48.556528Z",
     "start_time": "2021-12-01T02:15:48.553823Z"
    }
   },
   "outputs": [],
   "source": [
    "class_slot_dict = {\n",
    "    \"pending_ranges\": set(),\n",
    "    \"pending_slots\": set(),\n",
    "    \"exhausted_ranges\": set(),\n",
    "    \"exhausted_slots\": set(),\n",
    "    \"exhausted_enums\": set(),\n",
    "    \"exhausted_types\": set(),\n",
    "}"
   ]
  },
  {
   "cell_type": "code",
   "execution_count": 11,
   "id": "714b8cd9",
   "metadata": {
    "ExecuteTime": {
     "end_time": "2021-12-01T02:15:48.560819Z",
     "start_time": "2021-12-01T02:15:48.558661Z"
    }
   },
   "outputs": [],
   "source": [
    "accum = class_slot_dict.copy()\n",
    "accum[\"pending_ranges\"].add(selected_class)"
   ]
  },
  {
   "cell_type": "code",
   "execution_count": 12,
   "id": "0c133403",
   "metadata": {
    "ExecuteTime": {
     "end_time": "2021-12-01T02:15:48.572579Z",
     "start_time": "2021-12-01T02:15:48.562488Z"
    }
   },
   "outputs": [],
   "source": [
    "# use a dataclass instead of a dict?\n",
    "# or do better testing of the dict\n",
    "def exhaust_class(dict_to_exhaust):\n",
    "    if (\n",
    "        len(dict_to_exhaust[\"pending_ranges\"]) == 0\n",
    "        and len(dict_to_exhaust[\"pending_slots\"]) == 0\n",
    "    ):\n",
    "        return dict_to_exhaust\n",
    "    else:\n",
    "        class_parents = set()\n",
    "        usage_ranges = set()\n",
    "        for pc in dict_to_exhaust[\"pending_ranges\"]:\n",
    "            dict_to_exhaust[\"exhausted_ranges\"].add(pc)\n",
    "            i_s = model_sv.class_induced_slots(pc)\n",
    "            isnl = [slot.name for slot in i_s]\n",
    "            isns = set(isnl)\n",
    "            dict_to_exhaust[\"pending_slots\"] = dict_to_exhaust[\"pending_slots\"].union(\n",
    "                isns\n",
    "            )\n",
    "            class_parents.update(set(model_sv.class_ancestors(pc)))\n",
    "            cd = model_sv.get_class(pc)\n",
    "            for k, v in cd.slot_usage.items():\n",
    "                if v.range is not None:\n",
    "                    usage_ranges.add(v.range)\n",
    "        dict_to_exhaust[\"pending_ranges\"] = (\n",
    "            dict_to_exhaust[\"pending_ranges\"] - dict_to_exhaust[\"exhausted_ranges\"]\n",
    "        )\n",
    "        for cp in class_parents:\n",
    "            if cp not in dict_to_exhaust[\"exhausted_ranges\"]:\n",
    "                dict_to_exhaust[\"pending_ranges\"].add(cp)\n",
    "        for ur in usage_ranges:\n",
    "            if ur in all_class_names and ur not in dict_to_exhaust[\"exhausted_ranges\"]:\n",
    "                dict_to_exhaust[\"pending_ranges\"].add(ur)\n",
    "            if ur in all_type_names:\n",
    "                # a typeof could sneak in here?\n",
    "                dict_to_exhaust[\"exhausted_types\"].add(ur)\n",
    "        isas = set()\n",
    "        for ps in dict_to_exhaust[\"pending_slots\"]:\n",
    "            if ps not in dict_to_exhaust[\"exhausted_slots\"]:\n",
    "                current_slot_def = all_slots_dict[ps]\n",
    "                isas.update(set(model_sv.slot_ancestors(ps)))\n",
    "\n",
    "                current_slot_range = current_slot_def.range\n",
    "                if current_slot_range is not None:\n",
    "                    if current_slot_range in all_type_names:\n",
    "                        dict_to_exhaust[\"exhausted_types\"].add(current_slot_range)\n",
    "                        td = model_sv.get_type(current_slot_range)\n",
    "                        tdto = td.typeof\n",
    "                        if tdto is not None:\n",
    "                            dict_to_exhaust[\"exhausted_types\"].add(tdto)\n",
    "                    if current_slot_range in all_enum_names:\n",
    "                        dict_to_exhaust[\"exhausted_enums\"].add(current_slot_range)\n",
    "                    if current_slot_range in all_class_names:\n",
    "                        if (\n",
    "                            current_slot_range\n",
    "                            not in dict_to_exhaust[\"exhausted_ranges\"]\n",
    "                        ):\n",
    "                            dict_to_exhaust[\"pending_ranges\"].add(current_slot_range)\n",
    "\n",
    "                # refactor?\n",
    "                current_slot_domain = current_slot_def.domain\n",
    "                if current_slot_domain is not None:\n",
    "                    if current_slot_domain not in dict_to_exhaust[\"exhausted_ranges\"]:\n",
    "                        dict_to_exhaust[\"pending_ranges\"].add(current_slot_domain)\n",
    "\n",
    "                dict_to_exhaust[\"exhausted_slots\"].add(ps)\n",
    "        dict_to_exhaust[\"pending_slots\"] = (\n",
    "            dict_to_exhaust[\"pending_slots\"] - dict_to_exhaust[\"exhausted_slots\"]\n",
    "        )\n",
    "        for parent in isas:\n",
    "            dict_to_exhaust[\"pending_slots\"].add(parent)\n",
    "\n",
    "        return exhaust_class(dict_to_exhaust)"
   ]
  },
  {
   "cell_type": "code",
   "execution_count": 13,
   "id": "bb1690d2",
   "metadata": {
    "ExecuteTime": {
     "end_time": "2021-12-01T02:15:48.731446Z",
     "start_time": "2021-12-01T02:15:48.573952Z"
    }
   },
   "outputs": [],
   "source": [
    "exhausted = exhaust_class(accum)"
   ]
  },
  {
   "cell_type": "code",
   "execution_count": 14,
   "id": "84de5ed0",
   "metadata": {
    "ExecuteTime": {
     "end_time": "2021-12-01T02:15:48.735877Z",
     "start_time": "2021-12-01T02:15:48.733010Z"
    }
   },
   "outputs": [],
   "source": [
    "accum_sd = SchemaDefinition(name=\"accumulated\", id=\"http://example.com/accumulated\")"
   ]
  },
  {
   "cell_type": "code",
   "execution_count": 15,
   "id": "c0735057",
   "metadata": {
    "ExecuteTime": {
     "end_time": "2021-12-01T02:15:48.739802Z",
     "start_time": "2021-12-01T02:15:48.737463Z"
    }
   },
   "outputs": [],
   "source": [
    "for i in exhausted[\"exhausted_ranges\"]:\n",
    "#     print(i)\n",
    "    accum_sd.classes[i] = model_sv.get_class(i)"
   ]
  },
  {
   "cell_type": "code",
   "execution_count": 16,
   "id": "fc5dfa17",
   "metadata": {
    "ExecuteTime": {
     "end_time": "2021-12-01T02:15:48.744121Z",
     "start_time": "2021-12-01T02:15:48.741323Z"
    }
   },
   "outputs": [],
   "source": [
    "for i in exhausted[\"exhausted_slots\"]:\n",
    "#     print(i)\n",
    "    accum_sd.slots[i] = model_sv.get_slot(i)"
   ]
  },
  {
   "cell_type": "code",
   "execution_count": 17,
   "id": "69d9eb21",
   "metadata": {
    "ExecuteTime": {
     "end_time": "2021-12-01T02:15:48.748050Z",
     "start_time": "2021-12-01T02:15:48.745738Z"
    }
   },
   "outputs": [],
   "source": [
    "for i in exhausted[\"exhausted_types\"]:\n",
    "#     print(i)\n",
    "    accum_sd.types[i] = model_sv.get_type(i)"
   ]
  },
  {
   "cell_type": "code",
   "execution_count": 18,
   "id": "68492fe1",
   "metadata": {
    "ExecuteTime": {
     "end_time": "2021-12-01T02:15:48.752356Z",
     "start_time": "2021-12-01T02:15:48.749685Z"
    }
   },
   "outputs": [],
   "source": [
    "# limit these to those subsets claimed by any element?\n",
    "for k,v in mvs.items():\n",
    "#     print(k)\n",
    "    accum_sd.subsets[k] = v"
   ]
  },
  {
   "cell_type": "code",
   "execution_count": 19,
   "id": "862d23e8",
   "metadata": {
    "ExecuteTime": {
     "end_time": "2021-12-01T02:15:48.755829Z",
     "start_time": "2021-12-01T02:15:48.753690Z"
    }
   },
   "outputs": [],
   "source": [
    "# limit these to those prefixes claimed by any element?\n",
    "for k,v in mvp.items():\n",
    "#     print(k)\n",
    "    accum_sd.prefixes[k] = v"
   ]
  },
  {
   "cell_type": "code",
   "execution_count": 20,
   "id": "804f7c5b",
   "metadata": {
    "ExecuteTime": {
     "end_time": "2021-12-01T02:15:48.759648Z",
     "start_time": "2021-12-01T02:15:48.757344Z"
    }
   },
   "outputs": [],
   "source": [
    "# print(yaml_dumper.dumps(accum_sd))"
   ]
  },
  {
   "cell_type": "code",
   "execution_count": 21,
   "id": "d86b2ace",
   "metadata": {
    "ExecuteTime": {
     "end_time": "2021-12-01T02:15:48.941137Z",
     "start_time": "2021-12-01T02:15:48.761296Z"
    }
   },
   "outputs": [],
   "source": [
    "yaml_dumper.dump(accum_sd, \"accum_sd.yaml\")"
   ]
  },
  {
   "cell_type": "code",
   "execution_count": null,
   "id": "ff6e33c7",
   "metadata": {},
   "outputs": [],
   "source": []
  }
 ],
 "metadata": {
  "kernelspec": {
   "display_name": "Python 3 (ipykernel)",
   "language": "python",
   "name": "python3"
  },
  "language_info": {
   "codemirror_mode": {
    "name": "ipython",
    "version": 3
   },
   "file_extension": ".py",
   "mimetype": "text/x-python",
   "name": "python",
   "nbconvert_exporter": "python",
   "pygments_lexer": "ipython3",
   "version": "3.9.8"
  },
  "varInspector": {
   "cols": {
    "lenName": 16,
    "lenType": 16,
    "lenVar": 40
   },
   "kernels_config": {
    "python": {
     "delete_cmd_postfix": "",
     "delete_cmd_prefix": "del ",
     "library": "var_list.py",
     "varRefreshCmd": "print(var_dic_list())"
    },
    "r": {
     "delete_cmd_postfix": ") ",
     "delete_cmd_prefix": "rm(",
     "library": "var_list.r",
     "varRefreshCmd": "cat(var_dic_list()) "
    }
   },
   "types_to_exclude": [
    "module",
    "function",
    "builtin_function_or_method",
    "instance",
    "_Feature"
   ],
   "window_display": false
  }
 },
 "nbformat": 4,
 "nbformat_minor": 5
}
